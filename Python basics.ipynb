{
 "cells": [
  {
   "cell_type": "markdown",
   "metadata": {},
   "source": [
    "<h3><b>(T.1) Test the environment </b></h3>\n",
    "<p>Print Hello world on the screen </p>"
   ]
  },
  {
   "cell_type": "code",
   "execution_count": 2,
   "metadata": {},
   "outputs": [
    {
     "name": "stdout",
     "output_type": "stream",
     "text": [
      "hello world\n"
     ]
    }
   ],
   "source": [
    "print('hello world')"
   ]
  },
  {
   "cell_type": "markdown",
   "metadata": {},
   "source": [
    "<h3><b>(T.2) Swap the values of 2 variables </b></h3>\n",
    "<p>\n",
    "Declare 2 variables a and b. a=10, b=20 </br>\n",
    "Swap the values between the 2 variables and print them on the screen. Try not using the pythonic way, but rather use a third variable to perform the swap</br>\n",
    "Result:\n",
    "a = 20\n",
    "b = 10\n",
    "</p>"
   ]
  },
  {
   "cell_type": "code",
   "execution_count": 1,
   "metadata": {},
   "outputs": [
    {
     "name": "stdout",
     "output_type": "stream",
     "text": [
      "a=20,b=10\n"
     ]
    }
   ],
   "source": [
    "a=10\n",
    "b=20\n",
    "\n",
    "#solution 1 - pythonic:\n",
    "#a,b = b,a\n",
    "\n",
    "#solution 2:\n",
    "temp = a \n",
    "a = b \n",
    "b = temp \n",
    "\n",
    "print(f'a={a},b={b}')\n"
   ]
  },
  {
   "cell_type": "markdown",
   "metadata": {},
   "source": [
    "<h3><b>(T.3) Odd or even</b></h3>\n",
    "<p>\n",
    "Write a program to check if a number is odd or even. Use input() to enter the number.\n",
    "</p>"
   ]
  },
  {
   "cell_type": "code",
   "execution_count": 4,
   "metadata": {},
   "outputs": [
    {
     "name": "stdout",
     "output_type": "stream",
     "text": [
      "6 is even\n"
     ]
    }
   ],
   "source": [
    "def odd_even():\n",
    "    \"\"\"used to define if a number is odd or even\"\"\"\n",
    "    n = input('Enter an integer number: ')\n",
    "    try:\n",
    "        n = int(n)\n",
    "    except:\n",
    "        print(f'{n} is not an integer number')\n",
    "        return\n",
    "\n",
    "    if n == 0:\n",
    "        print('0 is neither odd nor even')\n",
    "    elif n % 2 == 0:\n",
    "        print(f'{n} is even')\n",
    "    else:\n",
    "        print(f'{n} is odd')\n",
    "    \n",
    "odd_even()"
   ]
  },
  {
   "cell_type": "markdown",
   "metadata": {},
   "source": [
    "<h3><b>(T.4) Calculate exam grade</b></h3>\n",
    "<p>\n",
    "Create a program that gets number of points as input (between 0-100) and calculates the grade of a student. </br>\n",
    "Scoring is as below. Can you do this using a dictionary?\n",
    "<table>\n",
    "<tr><td>Grade</td><td>Points</td></tr>\n",
    "<tr><td>A</td><td>90</td></tr>\n",
    "<tr><td>B</td><td>between 80 and 89</td></tr>\n",
    "<tr><td>C</td><td>between 70 and 79</td></tr>\n",
    "<tr><td>D</td><td>between 60 an 69</td></tr>\n",
    "<tr><td>F</td><td>below 60</td></tr>\n",
    "</table>\n",
    "</p>"
   ]
  },
  {
   "cell_type": "code",
   "execution_count": 16,
   "metadata": {},
   "outputs": [
    {
     "name": "stdout",
     "output_type": "stream",
     "text": [
      "Grade B\n"
     ]
    }
   ],
   "source": [
    "def calculate_grade():\n",
    "    n = input('Enter number of points: ')\n",
    "    try:\n",
    "        n = int(n)\n",
    "    except:\n",
    "        print(f'{n} is not an integer number')\n",
    "        return\n",
    "    if n < 0 or n > 100:\n",
    "        print('the number value must be in range 0-100')\n",
    "        return\n",
    "\n",
    "    d = {\n",
    "    (90, 100): 'A'\n",
    "    ,(80, 89): 'B'\n",
    "    ,(70, 79): 'C'\n",
    "    ,(60, 69): 'D'\n",
    "    ,(0, 59): 'F'\n",
    "    }\n",
    "    for k, v in d.items():\n",
    "        if n in range(k[0], k[1]+1):\n",
    "            print(f'Grade {v}')\n",
    "    \n",
    "calculate_grade()"
   ]
  },
  {
   "cell_type": "markdown",
   "metadata": {},
   "source": [
    "<h3><b>(T.5)  Sum n numbers</b></h3>\n",
    "<p>\n",
    "Calculate the sum of the first n numbers starting from 0.\n",
    "Allow user input for n <= 100\n",
    "</p>"
   ]
  },
  {
   "cell_type": "code",
   "execution_count": 17,
   "metadata": {},
   "outputs": [
    {
     "name": "stdout",
     "output_type": "stream",
     "text": [
      "[0, 1, 2, 3] 6\n",
      "final res is: 6\n"
     ]
    }
   ],
   "source": [
    "\n",
    "#iterative\n",
    "def calculate_sum1(n):\n",
    "    n_sum = 0\n",
    "    for i in range(0, n):\n",
    "        n_sum = n_sum + i\n",
    "    print(list(range(0, n)), n_sum)\n",
    "    \n",
    "calculate_sum1(4)\n",
    "\n",
    "\n",
    "#recursive \n",
    "def calculate_sum2(n):\n",
    "    if n == 0:\n",
    "        return n \n",
    "    else:\n",
    "        return n + calculate_sum2(n-1)\n",
    "    \n",
    "res = calculate_sum2(3) # 0, 1, 2, 3 = 6\n",
    "print(f'final res is: {res}')\n"
   ]
  },
  {
   "cell_type": "markdown",
   "metadata": {},
   "source": [
    "<h3><b>(T.6) Max value in a list</b></h3>\n",
    "<p>\n",
    "Write a program to find the max value in a list </br>\n",
    "You can't use the max() function or any other built in function.\n",
    "\n",
    "Example list:\n",
    "[10, 15, 7, 255, 13, 103]\n",
    "</p>"
   ]
  },
  {
   "cell_type": "code",
   "execution_count": 38,
   "metadata": {},
   "outputs": [
    {
     "name": "stdout",
     "output_type": "stream",
     "text": [
      "255\n"
     ]
    }
   ],
   "source": [
    "def max_value(l):\n",
    "    max = l[0]\n",
    "    for i in range(1, len(l)):\n",
    "        if l[i] > max:\n",
    "            max = l[i]\n",
    "    print(max)\n",
    "\n",
    "max_value([10,15,7,255,13,103])"
   ]
  },
  {
   "cell_type": "markdown",
   "metadata": {},
   "source": [
    "<h3><b>(T.7) Calculate sum of digits</b></h3>\n",
    "<p>\n",
    "Given a number N calculate the sum of all digits of N\n",
    "\n",
    "Example:\n",
    "N = 4325 </br>\n",
    "sum = 4 + 3 + 2 + 5 </br>\n",
    "sum = 14\n",
    "</p>"
   ]
  },
  {
   "cell_type": "code",
   "execution_count": 22,
   "metadata": {},
   "outputs": [
    {
     "name": "stdout",
     "output_type": "stream",
     "text": [
      "14\n"
     ]
    }
   ],
   "source": [
    "def digit_sum(n):\n",
    "    l = list(''.join(str(n)))\n",
    "    d_sum = 0\n",
    "    for i in l:\n",
    "        try:\n",
    "            d_sum = d_sum + int(i)\n",
    "        except:\n",
    "            pass\n",
    "    return d_sum\n",
    "\n",
    "print(digit_sum('N = 4325'))\n"
   ]
  },
  {
   "cell_type": "markdown",
   "metadata": {},
   "source": [
    "<h3><b>(T.8) Number guessing game</b></h3>\n",
    "<p>\n",
    "Create a number guessing game where the player needs to guess a number between 1 and 100 (should be randomly generated). </br>\n",
    "Every time a player is prompted to take a guess and after each try they should get a response if their number is higher or lower than the generated number</br></br>\n",
    "Example:</br>\n",
    "Try to guess a number between 1 and 100 </br>\n",
    "The number is greater than 50 </br>\n",
    "The number is greater than 60 </br> \n",
    "The number is greater than 70 </br>\n",
    "The number is greater than 80 </br>\n",
    "The number is less than 90 </br>\n",
    "The number is greater than 85 </br>\n",
    "Correct! Number is 87\n",
    "\n",
    "</p>\n"
   ]
  },
  {
   "cell_type": "code",
   "execution_count": 31,
   "metadata": {},
   "outputs": [
    {
     "name": "stdout",
     "output_type": "stream",
     "text": [
      "38\n",
      "k is not an integer\n",
      "k is not an integer\n",
      "The number is greater than 7\n",
      "The number is greater than 9\n",
      "Correct! The number is 38\n"
     ]
    }
   ],
   "source": [
    "\n",
    "from random import randint\n",
    "def guess_number():\n",
    "    nr = randint(1,100)\n",
    "    print(nr)\n",
    "    while True:\n",
    "        guess = input('Try to guess a number between 1 and 100: ')\n",
    "\n",
    "        try:\n",
    "            guess = int(guess) \n",
    "        except:\n",
    "            print(f'{guess} is not an integer')\n",
    "            continue\n",
    "\n",
    "        if guess == nr:\n",
    "            print(f'Correct! The number is {guess}')\n",
    "            return\n",
    "        elif guess < nr:\n",
    "            print(f'The number is greater than {guess}')     \n",
    "        elif guess > nr:\n",
    "            print(f'The number is less than {guess}')\n",
    "\n",
    "guess_number()"
   ]
  },
  {
   "cell_type": "markdown",
   "metadata": {},
   "source": [
    "<h3><b>(T.9) Factorials</b></h3>\n",
    "<h3><b>Note: Starting from this task it is mandatory that all remaining problems are completed using functions.</b></h3>\n",
    "<p>\n",
    "Create a factorial function that returns the factorial of a numbers. The function should accept only positive integers. </br>\n",
    "The factorial of a number is the sum of the multiplication, of all the whole numbers, from our specified number down to 1. </br>\n",
    "Example: </br>\n",
    "The factorial of 6 would be 6 x 5 x 4 x 3 x 2 x 1 = 720\n",
    "\n",
    "</p>\n"
   ]
  },
  {
   "cell_type": "code",
   "execution_count": 39,
   "metadata": {},
   "outputs": [
    {
     "name": "stdout",
     "output_type": "stream",
     "text": [
      "[1, 2, 3, 4] 24\n"
     ]
    }
   ],
   "source": [
    "def fact(n):\n",
    "    if n <= 0:\n",
    "        print(f'{n} must be greater than 0')\n",
    "        return\n",
    "    if n == 1:\n",
    "        return n\n",
    "    else:\n",
    "        return n * fact(n-1)\n",
    "\n",
    "x = 4 \n",
    "print(list(range(1, x+1)), fact(x))"
   ]
  },
  {
   "cell_type": "markdown",
   "metadata": {},
   "source": [
    "<h3><b>(T.10) Number of occurencies </b></h3>\n",
    "<p>\n",
    "Create a function that counts how many times certain characters appeared in a word. </br>\n",
    "Return a data structure that stores all results. </br>\n",
    "\n",
    "Example: </br>\n",
    "ADASTRA </br>\n",
    "A -> 3 </br>\n",
    "D -> 1 </br>\n",
    "S -> 1 </br>\n",
    "T -> 1 </br>\n",
    "R -> 1\n",
    "\n",
    "</p>\n"
   ]
  },
  {
   "cell_type": "code",
   "execution_count": 3,
   "metadata": {},
   "outputs": [
    {
     "data": {
      "text/plain": [
       "{'a': 3, 'd': 1, 's': 1, 't': 1, 'r': 1}"
      ]
     },
     "execution_count": 3,
     "metadata": {},
     "output_type": "execute_result"
    }
   ],
   "source": [
    "def count_char(w):\n",
    "    d = {}\n",
    "    for i in w:\n",
    "        if i not in d.keys():\n",
    "            d[i] = 1\n",
    "        else:\n",
    "            d[i] += 1\n",
    "    return d\n",
    "\n",
    "count_char('adastra')"
   ]
  },
  {
   "cell_type": "markdown",
   "metadata": {},
   "source": [
    "<h3><b>(T.11) Sum to target </b></h3>\n",
    "<h3><b>Note: Starting from this task it is mandatory that all remaining problems are completed using functions.</b></h3>\n",
    "<p>\n",
    "Given an array of integers nums and an integer target, return the indices of the two numbers as an array such that they add up to target. </br>\n",
    "\n",
    "You may assume that each input would have exactly one solution, and you may not use the same element twice. </br>\n",
    "\n",
    "Example </br>\n",
    "Input: nums = [2,7,11,15], target = 9 </br>\n",
    "Output: [0,1] </br>\n",
    "Explanation: Because nums[0] + nums[1] == 9, we return [0, 1]\n",
    "\n",
    "</p>\n"
   ]
  },
  {
   "cell_type": "code",
   "execution_count": 43,
   "metadata": {},
   "outputs": [
    {
     "name": "stdout",
     "output_type": "stream",
     "text": [
      "Result 1: [2, 3]\n",
      "Result 2: [2, 3]\n",
      "Result 3: [[-8, 2, 6], [-8, 3, 5], [-6, 1, 5]]\n"
     ]
    }
   ],
   "source": [
    "# solution 1\n",
    "def sum_to_target1(l, trg):\n",
    "    d = {}\n",
    "    for i in l:\n",
    "        diff = trg - i\n",
    "        if diff in d:\n",
    "            return [d[diff], l.index(i)]\n",
    "        else:\n",
    "            d[i] = l.index(i)\n",
    "    return [] \n",
    "\n",
    "res1 = sum_to_target1([2,7,11,15], 26)\n",
    "print(f'Result 1: {res1}')\n",
    "\n",
    "# solution 2: considering that the input list is sorted\n",
    "def sum_to_target2(l, trg):\n",
    "    left_pointer = 0\n",
    "    right_pointer = len(l)-1\n",
    "    while left_pointer < right_pointer:\n",
    "        curr_sum = l[left_pointer] + l[right_pointer]\n",
    "        if curr_sum == trg:\n",
    "            return [left_pointer, right_pointer]\n",
    "        elif curr_sum > trg:\n",
    "            right_pointer -= 1\n",
    "        elif curr_sum < trg:\n",
    "            left_pointer += 1\n",
    "    return []\n",
    "\n",
    "\n",
    "res2 = sum_to_target2([2,7,11,15], 26)\n",
    "print(f'Result 2: {res2}')\n",
    "\n",
    "\n",
    "# additional exercise: 3 number sum, considering that the input list is sorted\n",
    "def sum_to_target3(l, trg):\n",
    "    res_nested_l = []\n",
    "    \n",
    "    for curr_pointer in range(len(l)-2):\n",
    "        left_pointer = curr_pointer + 1\n",
    "        right_pointer = len(l)-1\n",
    "\n",
    "        while left_pointer < right_pointer:\n",
    "            curr_sum = l[curr_pointer] + l[left_pointer] + l[right_pointer]\n",
    "            if curr_sum == trg:\n",
    "                res_nested_l.append([l[curr_pointer],l[left_pointer],l[right_pointer]])\n",
    "                right_pointer -= 1\n",
    "                left_pointer += 1\n",
    "            elif curr_sum > trg:\n",
    "                right_pointer -= 1\n",
    "            elif curr_sum < trg:\n",
    "                left_pointer += 1\n",
    "    return res_nested_l\n",
    "\n",
    "res3 = sum_to_target3([-8,-6,1,2,3,5,6,12], 0)\n",
    "print(f'Result 3: {res3}')\n",
    "\n",
    "   "
   ]
  },
  {
   "cell_type": "markdown",
   "metadata": {},
   "source": [
    "<h3><b>(T.12) Numbering ladder</b></h3>\n",
    "<p>\n",
    "Print the following pattern on the screen where n = 5: </br>\n",
    "\n",
    "[1]</br>\n",
    "[1, 2]</br>\n",
    "[1, 2, 3]</br>\n",
    "[1, 2, 3, 4]</br>\n",
    "[1, 2, 3, 4, 5]\n",
    "</p>\n"
   ]
  },
  {
   "cell_type": "code",
   "execution_count": 111,
   "metadata": {},
   "outputs": [
    {
     "name": "stdout",
     "output_type": "stream",
     "text": [
      "[1]\n",
      "[1, 2]\n",
      "[1, 2, 3]\n",
      "[1, 2, 3, 4]\n",
      "[1, 2, 3, 4, 5]\n"
     ]
    }
   ],
   "source": [
    "def numbering_ladder(n):\n",
    "    l = []\n",
    "    for i in range(1,n+1):\n",
    "        l.append(i)\n",
    "        print(l)\n",
    "    \n",
    "numbering_ladder(5)\n",
    "\n"
   ]
  },
  {
   "cell_type": "markdown",
   "metadata": {},
   "source": [
    "<h3><b>(T.13) Numbering ladder Reversed</b></h3>\n",
    "<p>\n",
    "Print the following pattern on the screen where n = 5: </br>\n",
    "\n",
    "[1, 2, 3, 4, 5]</br>\n",
    "[1, 2, 3, 4]</br>\n",
    "[1, 2, 3]</br>\n",
    "[1, 2]</br>\n",
    "[1]\n",
    "\n",
    "</p>\n"
   ]
  },
  {
   "cell_type": "code",
   "execution_count": 187,
   "metadata": {},
   "outputs": [
    {
     "name": "stdout",
     "output_type": "stream",
     "text": [
      "[1, 2, 3, 4, 5]\n",
      "[1, 2, 3, 4]\n",
      "[1, 2, 3]\n",
      "[1, 2]\n",
      "[1]\n"
     ]
    }
   ],
   "source": [
    "def numbering_ladder(n):\n",
    "    while n >= 1:\n",
    "        l = []\n",
    "        for i in range(1,n+1):\n",
    "            l.append(i)\n",
    "        print(l)\n",
    "        n -= 1\n",
    "\n",
    "numbering_ladder(5)"
   ]
  },
  {
   "cell_type": "markdown",
   "metadata": {},
   "source": [
    "<h3><b>(T.14) Pyramid</b></h3>\n",
    "<p>\n",
    "Print the following pattern on the screen where n = 5: </br>\n",
    "\n",
    "\n",
    "        *\n",
    "       ***\n",
    "      *****\n",
    "     *******\n",
    "    *********\n",
    "</p>\n"
   ]
  },
  {
   "cell_type": "code",
   "execution_count": 44,
   "metadata": {},
   "outputs": [
    {
     "name": "stdout",
     "output_type": "stream",
     "text": [
      "    *\n",
      "   ***\n",
      "  *****\n",
      " *******\n",
      "*********\n"
     ]
    }
   ],
   "source": [
    "def pyramid(n):\n",
    "    brick = '*'\n",
    "    base = ' '*n\n",
    "    right_slot = 0\n",
    "    for i in range(n):\n",
    "        left_slot = right_slot + 1\n",
    "        print ((base[:-left_slot] + brick*left_slot) + brick*right_slot)\n",
    "        right_slot += 1\n",
    "\n",
    "pyramid(5)"
   ]
  },
  {
   "cell_type": "markdown",
   "metadata": {},
   "source": [
    "<h3><b>(T.15) Inverted pyramid</b></h3>\n",
    "<p>\n",
    "Print the following pattern on the screen where n = 5: </br>\n",
    "    \n",
    "    *********\n",
    "     *******\n",
    "      *****\n",
    "       ***\n",
    "        *\n",
    "\n",
    "</p>\n"
   ]
  },
  {
   "cell_type": "code",
   "execution_count": 283,
   "metadata": {},
   "outputs": [
    {
     "name": "stdout",
     "output_type": "stream",
     "text": [
      "*********\n",
      " *******\n",
      "  *****\n",
      "   ***\n",
      "    *\n"
     ]
    }
   ],
   "source": [
    "def pyramid(n):\n",
    "    brick = '*'\n",
    "    base = ' '*(n)\n",
    "    right_slot = n-1\n",
    "    for i in range(n):\n",
    "        left_slot = right_slot + 1\n",
    "        print ((base[:-left_slot] + brick*left_slot) + brick*right_slot)\n",
    "        right_slot -= 1\n",
    "\n",
    "pyramid(5)"
   ]
  },
  {
   "cell_type": "markdown",
   "metadata": {},
   "source": [
    "<h3><b>(T.16) ASCII ladder</b></h3>\n",
    "<p>\n",
    "Print the following pattern on the screen where n = 5: </br>\n",
    "\n",
    "A </br>\n",
    "B B </br>\n",
    "C C C </br>\n",
    "D D D D </br>\n",
    "E E E E E\n",
    "\n",
    "\n",
    "</p>\n"
   ]
  },
  {
   "cell_type": "code",
   "execution_count": 47,
   "metadata": {},
   "outputs": [
    {
     "name": "stdout",
     "output_type": "stream",
     "text": [
      "A\n",
      "BB\n",
      "CCC\n",
      "DDDD\n",
      "EEEEE\n",
      "A\n",
      "BB\n",
      "CCC\n",
      "DDDD\n",
      "EEEEE\n"
     ]
    }
   ],
   "source": [
    "def ascii_ladder1(n):\n",
    "    row = n\n",
    "    col = 1\n",
    "    ascii_dec = ord('A')\n",
    "    for r in range(row):\n",
    "        print(chr(ascii_dec)*col)\n",
    "        col += 1\n",
    "        ascii_dec += 1\n",
    "\n",
    "ascii_ladder1(5)\n",
    "\n",
    "def ascii_ladder2(n):\n",
    "    row = n\n",
    "    col = 1 \n",
    "    ascii_dec = ord('A')\n",
    "    for r in range(row):\n",
    "        for c in range(col):\n",
    "            print(chr(ascii_dec), end='')\n",
    "        print()\n",
    "        col += 1\n",
    "        ascii_dec += 1\n",
    "\n",
    "ascii_ladder2(5)"
   ]
  },
  {
   "cell_type": "markdown",
   "metadata": {},
   "source": [
    "<h3><b>(T.17) ASCII Matrix</b></h3>\n",
    "<p>\n",
    "Print the following pattern on the screen where n = 5: </br>\n",
    "\n",
    "<table>\n",
    "<tr><td>A</td><td>A</td><td>A</td><td>A</td><td>A</td></tr>\n",
    "<tr><td>B</td><td>B</td><td>B</td><td>B</td><td>B</td></tr>\n",
    "<tr><td>C</td><td>C</td><td>C</td><td>C</td><td>C</td></tr>\n",
    "<tr><td>D</td><td>D</td><td>D</td><td>D</td><td>D</td></tr>\n",
    "<tr><td>E</td><td>E</td><td>E</td><td>E</td><td>E</td></tr>\n",
    "</table>\n",
    "\n",
    "\n",
    "</p>\n"
   ]
  },
  {
   "cell_type": "code",
   "execution_count": 52,
   "metadata": {},
   "outputs": [
    {
     "name": "stdout",
     "output_type": "stream",
     "text": [
      "['A', 'A', 'A', 'A', 'A']\n",
      "['B', 'B', 'B', 'B', 'B']\n",
      "['C', 'C', 'C', 'C', 'C']\n",
      "['D', 'D', 'D', 'D', 'D']\n",
      "['E', 'E', 'E', 'E', 'E']\n"
     ]
    }
   ],
   "source": [
    "def ascii_matrix(n):\n",
    "    start = ord('A')\n",
    "    l = [[chr(i) for j in range(5)] for i in range(start, start+n)]\n",
    "    for i in l:\n",
    "        print(i)\n",
    "\n",
    "ascii_matrix(5)"
   ]
  },
  {
   "cell_type": "markdown",
   "metadata": {},
   "source": [
    "<h3><b>(T.18) Longest word</b></h3>\n",
    "<p>\n",
    "\n",
    "Find the longest word in a sentence: </br>\n",
    "\n",
    "Example: </br>\n",
    "This is the <b>longest</b> word. </br>\n",
    "\n",
    "answer: longest\n",
    "\n",
    "Note: The function you create should accept a sentence of type string\n",
    "</p>\n"
   ]
  },
  {
   "cell_type": "code",
   "execution_count": 84,
   "metadata": {},
   "outputs": [
    {
     "name": "stdout",
     "output_type": "stream",
     "text": [
      "max is: longest\n"
     ]
    }
   ],
   "source": [
    "import re\n",
    "def longest_word(s):\n",
    "    regex = re.compile('[^a-zA-Z]')\n",
    "    #replace any non-letter character with empty string and create a list of words:\n",
    "    l = list(regex.sub('', w) for w in s.split(' '))\n",
    "    max = l[0]          \n",
    "    for i in range(1,len(l)):\n",
    "        if len(max) < len(l[i]):\n",
    "                max = l[i]\n",
    "    print(f'max is: {max}')\n",
    "\n",
    "\n",
    "longest_word('This is the longest word.')"
   ]
  },
  {
   "cell_type": "markdown",
   "metadata": {},
   "source": [
    "<h3><b>(T.19) Generate password</b></h3>\n",
    "<p>\n",
    "\n",
    "Create a function that generates easy, medium, hard passwords based on input. </br>\n",
    "Your function should accept 2 arguments which are num_of_characters and password_strength. Num of characters for the password shouldn't be less than 8. </br>\n",
    "\n",
    "easy password - when password consists only of numbers </br>\n",
    "medium password - when password consists only of numbers and letters </br>\n",
    "hard password - when password consists of numbers, letters, special characters \n",
    "\n",
    "</p>\n"
   ]
  },
  {
   "cell_type": "code",
   "execution_count": 89,
   "metadata": {},
   "outputs": [
    {
     "name": "stdout",
     "output_type": "stream",
     "text": [
      "Password must be at least 8 characters long\n"
     ]
    }
   ],
   "source": [
    "from string import punctuation, ascii_lowercase, ascii_uppercase\n",
    "from random import choice \n",
    "\n",
    "def password(num_of_characters, password_strength):\n",
    "    min_length = 8 \n",
    "    if num_of_characters < min_length:\n",
    "        print('Password must be at least 8 characters long')\n",
    "        return\n",
    "\n",
    "    punct_tuple = tuple(punctuation)\n",
    "    alpha_tuple = tuple(ascii_lowercase) + tuple(ascii_uppercase)\n",
    "    num_tuple = tuple(range(0,10))\n",
    "\n",
    "    passw = ''\n",
    "    while len(passw) < num_of_characters:\n",
    "        passw += str(choice(num_tuple)) #valid for all types\n",
    "        if len(passw) < num_of_characters:\n",
    "            if password_strength == 'easy':\n",
    "                continue #force to start next interation\n",
    "            if password_strength != 'easy': \n",
    "                passw += str(choice(alpha_tuple)) #valid for both 'medium' and 'hard'\n",
    "                if password_strength == 'medium':\n",
    "                    continue\n",
    "                if password_strength == 'hard': \n",
    "                    passw += str(choice(punct_tuple)) #valid for 'hard' only\n",
    "    print(passw)\n",
    "\n",
    "\n",
    "password(7, 'hard')"
   ]
  },
  {
   "cell_type": "markdown",
   "metadata": {},
   "source": [
    "<h3><b>(T.20) Calculate person's age</b></h3>\n",
    "<p>\n",
    "\n",
    "Create a program that based on person's age displays if the person is of age or not. </br>\n",
    "Person is of age when they are more than 18 years old.\n",
    "\n",
    "</p>\n"
   ]
  },
  {
   "cell_type": "code",
   "execution_count": 96,
   "metadata": {},
   "outputs": [
    {
     "name": "stdout",
     "output_type": "stream",
     "text": [
      "The person is of age (38 y.o.)\n"
     ]
    }
   ],
   "source": [
    "import datetime\n",
    "\n",
    "def calculate_age():\n",
    "    birth_year = int(input('Enter your birth year in 4-digit format: '))\n",
    "    birth_month = int(input('Enter your birth month in 1/2 digit format: '))\n",
    "    birth_day = int(input('Enter your birth day in 1/2 digit format: '))\n",
    "    # add check for the right input format\n",
    "\n",
    "    birth_date = datetime.date(birth_year, birth_month, birth_day)\n",
    "    today = datetime.date.today()\n",
    "    age = today.year - birth_date.year\n",
    "    if today < datetime.date(today.year, birth_date.month, birth_date.day):\n",
    "        age -= 1\n",
    "        \n",
    "    if age > 18:\n",
    "        print(f'The person is of age ({age} y.o.)')\n",
    "    else:\n",
    "        print(f'The person is not of age ({age} y.o.)')\n",
    "\n",
    "calculate_age()"
   ]
  },
  {
   "cell_type": "markdown",
   "metadata": {},
   "source": [
    "<h3><b>(T.21) Binary to decimal</b></h3>\n",
    "<p>\n",
    "\n",
    "Convert a binary number to a decimal number. </br>\n",
    "\n",
    "Example: </br>\n",
    "binary = 100 </br>\n",
    "decimal = 4 </br>\n",
    "\n",
    "Note: DO NOT USE BUILT-IN Python functions!!! Think about using the operators. Check the binary numerical system.\n",
    "\n",
    "</p>\n"
   ]
  },
  {
   "cell_type": "code",
   "execution_count": 97,
   "metadata": {},
   "outputs": [
    {
     "name": "stdout",
     "output_type": "stream",
     "text": [
      "74\n",
      "74\n"
     ]
    }
   ],
   "source": [
    "'''\n",
    "# test solution 1: \n",
    "def binary_to_decimal(binary_nr):\n",
    "\n",
    "    def binarySeries(i):\n",
    "        if i == 1:\n",
    "            return i\n",
    "        else:\n",
    "            return (binarySeries(i - 1) * 2)\n",
    "    binary_array = []\n",
    "    for i in range(1,9):\n",
    "        binary_array.append(binarySeries(i))\n",
    "\n",
    "    dec_nr = 0\n",
    "    input_array = [int(i) for i in str(binary_nr)[::-1]]\n",
    "    binary_dict = dict(zip(binary_array, input_array))\n",
    "    for k, v in binary_dict.items():\n",
    "        if v == 1:\n",
    "            dec_nr += k\n",
    "    print(dec_nr)\n",
    "    \n",
    "'''\n",
    "'''\n",
    "# test solution 2: \n",
    "def binary_to_decimal(binary_nr):\n",
    "    binaryArray = [int(i) for i in str(binary_nr)][::-1] # 0 0 1\n",
    "    dec_nr = 0 \n",
    "    exp = 0\n",
    "\n",
    "    for i in binaryArray:\n",
    "        dec_nr += i * (2 ** exp)\n",
    "        exp += 1\n",
    "\n",
    "    print(dec_nr)'''\n",
    "\n",
    "def binary_to_decimal_v01(binary_nr):\n",
    "    dec_nr, exp = 0, 0\n",
    "    while binary_nr > 0:\n",
    "        r = binary_nr % 10\n",
    "        dec_nr += r * (2 ** exp)\n",
    "        exp += 1\n",
    "        binary_nr = binary_nr // 10\n",
    "    print(dec_nr)\n",
    "\n",
    "binary_to_decimal_v01(1001010) #74\n",
    "\n",
    "\n",
    "#recursive approach\n",
    "def binary_to_decimal_v02(binary_nr):\n",
    "    return binaryToDecimalHelper(binary_nr, 0, 0)\n",
    "\n",
    "def binaryToDecimalHelper(binary_nr, exp, dec_nr):\n",
    "    if binary_nr == 0:\n",
    "        return dec_nr\n",
    "    else:\n",
    "        r = binary_nr % 10\n",
    "        dec_nr += r * (2 ** exp)\n",
    "        return binaryToDecimalHelper(binary_nr//10, exp+1, dec_nr)\n",
    "\n",
    "\n",
    "res = binary_to_decimal_v02(1001010) #74\n",
    "print(res)"
   ]
  },
  {
   "cell_type": "markdown",
   "metadata": {},
   "source": [
    "<h3><b>(T.22) Decimal to binary</b></h3>\n",
    "<p>\n",
    "\n",
    "Convert a decimal number to a binary number. </br>\n",
    "\n",
    "Example: </br>\n",
    "binary = 4 </br>\n",
    "decimal = 100</br>\n",
    "\n",
    "Note: DO NOT USE BUILT-IN Python functions!!! Think about using the operators. Check the binary numerical system.\n",
    "\n",
    "</p>\n"
   ]
  },
  {
   "cell_type": "code",
   "execution_count": 31,
   "metadata": {},
   "outputs": [
    {
     "name": "stdout",
     "output_type": "stream",
     "text": [
      "1001010"
     ]
    }
   ],
   "source": [
    "'''def decimal_to_binary(dec_nr):\n",
    "\n",
    "    ''''''\n",
    "    binaryArray = []       \n",
    "    def binarySeries(i):\n",
    "        if i < 0:\n",
    "            return\n",
    "        else:\n",
    "            binarySeries(i - 1)\n",
    "            binaryArray.append(2**i)       \n",
    "    binaryArray.append(binarySeries(7))\n",
    "    print(binaryArray[:-1])\n",
    "    ''''''\n",
    "\n",
    "    def binarySeries(i):\n",
    "        if i == 1:\n",
    "            return i\n",
    "        else:\n",
    "            return (binarySeries(i - 1) * 2)\n",
    "    binary_array = []\n",
    "    for i in range(1,9):\n",
    "        binary_array.append(binarySeries(i))\n",
    "\n",
    "    even_remainder = dec_nr\n",
    "    d = {}\n",
    "    if dec_nr % 2 == 1:\n",
    "        d[binary_array[0]] = 1\n",
    "        even_remainder = dec_nr - 1\n",
    "\n",
    "    curr_nr = even_remainder \n",
    "    pointer = len(binary_array)-1\n",
    "\n",
    "    while  curr_nr > 0: \n",
    "        if curr_nr < binary_array[pointer]:\n",
    "            pass\n",
    "        elif curr_nr >= binary_array[pointer]: \n",
    "            d[binary_array[pointer]] = 1\n",
    "            curr_nr -= binary_array[pointer] \n",
    "        pointer -= 1\n",
    "\n",
    "    binary_array_final = list(map(lambda x:1 if x in d.keys() else 0, binary_array))\n",
    "    binary_nr = int(''.join(map(str, binary_array_final[::-1])))\n",
    "    print(binary_nr)'''\n",
    "\n",
    "'''\n",
    "def decimal_to_binary(dec_nr):\n",
    "    r = dec_nr % 2 \n",
    "    s = ''\n",
    "    while dec_nr > 0:\n",
    "        s += str(r)\n",
    "        dec_nr = dec_nr // 2\n",
    "        r = dec_nr % 2\n",
    "    print(int(s[::-1]))'''\n",
    "\n",
    "def decimal_to_binary(dec_nr):\n",
    "    if dec_nr == 0:\n",
    "        return\n",
    "    else:\n",
    "        decimal_to_binary(dec_nr // 2)\n",
    "        print(dec_nr % 2, end='')\n",
    "\n",
    "decimal_to_binary(74) # 74 == 01001010 >> 1001010\n"
   ]
  },
  {
   "cell_type": "markdown",
   "metadata": {},
   "source": [
    "<h3><b>(T.23) Decimal to Hexadecimal</b></h3>\n",
    "<p>\n",
    "\n",
    "Convert a decimal number to a hexadecimal number. </br>\n",
    "\n",
    "Example: </br>\n",
    "decimal = 123 </br>\n",
    "hexadecimal = 7B</br>\n",
    "\n",
    "Note: DO NOT USE BUILT-IN Python functions!!! Think about using the operators. Check the hex numerical system.\n",
    "\n",
    "</p>\n"
   ]
  },
  {
   "cell_type": "code",
   "execution_count": 98,
   "metadata": {},
   "outputs": [
    {
     "name": "stdout",
     "output_type": "stream",
     "text": [
      "7B\n"
     ]
    }
   ],
   "source": [
    "def dec_to_hexadec(dec_nr):\n",
    "    r = dec_nr % 16 \n",
    "    s = ''\n",
    "    conversion_table = {\n",
    "        10:'A',\n",
    "        11:'B',\n",
    "        12:'C',\n",
    "        13:'D',\n",
    "        14:'E',\n",
    "        15:'F'\n",
    "    }\n",
    "    while dec_nr > 0:\n",
    "        if r in conversion_table:\n",
    "            s += conversion_table[r]\n",
    "        else:\n",
    "            s += str(r)\n",
    "        dec_nr = dec_nr // 16\n",
    "        r = dec_nr % 16\n",
    "\n",
    "    print(s[::-1])\n",
    "\n",
    "dec_to_hexadec(123)\n",
    "# 7B\n",
    "# 7::16 (16 ** 1)  B::1 (16 ** 0) >>> 7*16 + B(=11)*1 >>> 112 + 11 = 123"
   ]
  },
  {
   "cell_type": "markdown",
   "metadata": {},
   "source": [
    "<h3><b>(T.25) Binary serach</b></h3>\n",
    "<p>\n",
    "\n",
    "Create a function that implements the binary search algorithm</br>\n",
    "\n",
    "Definition of binary search: Binary search is a search algorithm used to find the position of a target value within a sorted array. It works by repeatedly dividing the search interval in half until the target value is found or the interval is empty.\n",
    "\n",
    "Example: </br>\n",
    "sorted_array = [1, 4, 7, 11, 15] </br>\n",
    "target = 11 </br>\n",
    "index = 3 (11 is on index 3 of the list)\n",
    "\n",
    "</p>\n"
   ]
  },
  {
   "cell_type": "code",
   "execution_count": 99,
   "metadata": {},
   "outputs": [
    {
     "name": "stdout",
     "output_type": "stream",
     "text": [
      "3\n"
     ]
    }
   ],
   "source": [
    "'''\n",
    "#iterative approach\n",
    "def binarySearch(arr, trg_nr):\n",
    "    left, right = 0, len(arr)-1\n",
    "    \n",
    "    while left <= right:\n",
    "        middle = (left+right)//2  \n",
    "\n",
    "        if trg_nr == arr[middle]:\n",
    "            return middle\n",
    "\n",
    "        elif trg_nr > arr[middle]:\n",
    "            left = middle + 1\n",
    "\n",
    "        elif trg_nr < arr[middle]:\n",
    "            right = middle - 1\n",
    "\n",
    "    return -1\n",
    "'''\n",
    "\n",
    "#recursive approach\n",
    "def binarySearch(arr, trg_nr):\n",
    "    return binarySearchHelper(arr, trg_nr, 0, len(arr)-1)\n",
    "\n",
    "def binarySearchHelper(arr, trg_nr, left, right):\n",
    "    if left > right:\n",
    "        return -1\n",
    "    \n",
    "    middle = (left+right)//2\n",
    "    if trg_nr == arr[middle]:\n",
    "        return middle\n",
    "    \n",
    "    elif trg_nr > arr[middle]:\n",
    "        return binarySearchHelper(arr, trg_nr, middle+1, right)\n",
    "\n",
    "    elif trg_nr < arr[middle]:\n",
    "        return binarySearchHelper(arr, trg_nr, left, middle-1) \n",
    "\n",
    "\n",
    "res = binarySearch([1, 4, 7, 11, 15], 11) # 3\n",
    "print(res)"
   ]
  },
  {
   "cell_type": "markdown",
   "metadata": {},
   "source": [
    "<h3><b>(T.26) Prime numbers</b></h3>\n",
    "<p>\n",
    "\n",
    "Create a function that checks if a number is a prime number</br>\n",
    "Definition: A prime number is a number that can only be divided by itself and 1 without remainders</br>\n",
    "\n",
    "Example: </br>\n",
    "num = 11 </br>\n",
    "is_prime returns True\n",
    "\n",
    "</p>\n"
   ]
  },
  {
   "cell_type": "code",
   "execution_count": 100,
   "metadata": {},
   "outputs": [
    {
     "name": "stdout",
     "output_type": "stream",
     "text": [
      "True\n"
     ]
    }
   ],
   "source": [
    "import math\n",
    "\n",
    "def is_prime_number(n):\n",
    "    # 1 is not prime, it's unit number\n",
    "    if n == 1:\n",
    "        return False\n",
    "    \n",
    "    # If it's even and not 2 then it's not a prime number\n",
    "    if n == 2:\n",
    "        return True\n",
    "    if n > 2 and n % 2 == 0:\n",
    "        return False\n",
    "    \n",
    "    max_divisor = int(math.sqrt(n))\n",
    "    # test only odd divisors by setting proper start=3 and step=2 below:\n",
    "    for d in range(3, max_divisor+1, 2):\n",
    "        if n % d == 0:\n",
    "            return False\n",
    "    return True\n",
    "\n",
    "res = is_prime_number(13)\n",
    "print(res)"
   ]
  },
  {
   "cell_type": "markdown",
   "metadata": {},
   "source": [
    "<h3><b>(T.27) Sort an array of 0s, 1s and 2s</b></h3>\n",
    "<p>\n",
    "\n",
    "Create a function that sorts 0s, 1s and 2s in order</br>\n",
    "\n",
    "Example: </br>\n",
    "Input: [0, 1, 2, 0, 1, 2] </br>\n",
    "Output: [0, 0, 1, 1, 2, 2] </br>\n",
    "Explanation: [0, 0, 1, 1, 2, 2] has all 0s first, then all 1s and all 2s in last.\n",
    "\n",
    "\n",
    "\n",
    "</p>\n"
   ]
  },
  {
   "cell_type": "code",
   "execution_count": 101,
   "metadata": {},
   "outputs": [
    {
     "name": "stdout",
     "output_type": "stream",
     "text": [
      "[0, 0, 0, 1, 2, 2]\n"
     ]
    }
   ],
   "source": [
    "def sort_array(arr):\n",
    "    left, mid = 0, 0 \n",
    "    right = len(arr)-1\n",
    "\n",
    "    while mid <= right:\n",
    "        if arr[mid] == 0:\n",
    "            arr[mid], arr[left] = arr[left], arr[mid]\n",
    "            mid += 1\n",
    "            left += 1\n",
    "\n",
    "        elif arr[mid] == 1:\n",
    "            mid += 1\n",
    "\n",
    "        elif arr[mid] == 2:\n",
    "            arr[mid], arr[right] = arr[right], arr[mid]\n",
    "            right -= 1\n",
    "\n",
    "    print(arr)\n",
    "        \n",
    "sort_array([2,0,2,0,1,0])"
   ]
  },
  {
   "cell_type": "markdown",
   "metadata": {},
   "source": [
    "<h3><b>(T.28) Fibonacci sequence</b></h3>\n",
    "<p>\n",
    "\n",
    "Create a function that prints the first n numbers of the fibonacci sequence</br>\n",
    "\n",
    "Fibonacci sequence looks like the below for n = 10: </br>\n",
    "[0, 1, 1, 2, 3, 5, 8, 13, 21, 34]\n",
    "\n",
    "\n",
    "\n",
    "</p>\n"
   ]
  },
  {
   "cell_type": "code",
   "execution_count": 102,
   "metadata": {},
   "outputs": [
    {
     "name": "stdout",
     "output_type": "stream",
     "text": [
      "[0, 1, 1, 2, 3, 5, 8, 13, 21, 34]\n"
     ]
    }
   ],
   "source": [
    "def fibonacciSeries(i):\n",
    "    if i <= 1:\n",
    "        return i\n",
    "    else:\n",
    "        return (fibonacciSeries(i - 1) + fibonacciSeries(i - 2))\n",
    "\n",
    "fib_array = []\n",
    "num = 10\n",
    "if num <=0:\n",
    "    print(\"Please enter a Positive Number\")\n",
    "for i in range(num):\n",
    "    fib_array.append(fibonacciSeries(i))\n",
    "print(fib_array)"
   ]
  },
  {
   "cell_type": "markdown",
   "metadata": {},
   "source": [
    "<h3><b>(T.29) Diagonal pattern</b></h3>\n",
    "<p>\n",
    "\n",
    "Create a function accepting n as parameter that generates a 2 dimensional array(list) with the following contents</br>\n",
    "\n",
    "When n = 10 </br>\n",
    "\n",
    "[9, 8, 7, 6, 5, 4, 3, 2, 1, 0] </br>\n",
    "[8, 7, 6, 5, 4, 3, 2, 1, 0, 0] </br>\n",
    "[7, 6, 5, 4, 3, 2, 1, 0, 0, 0] </br>\n",
    "[6, 5, 4, 3, 2, 1, 0, 0, 0, 0] </br>\n",
    "[5, 4, 3, 2, 1, 0, 0, 0, 0, 0] </br>\n",
    "[4, 3, 2, 1, 0, 0, 0, 0, 0, 0] </br>\n",
    "[3, 2, 1, 0, 0, 0, 0, 0, 0, 0] </br>\n",
    "[2, 1, 0, 0, 0, 0, 0, 0, 0, 0] </br>\n",
    "[1, 0, 0, 0, 0, 0, 0, 0, 0, 0] </br>\n",
    "[0, 0, 0, 0, 0, 0, 0, 0, 0, 0]\n",
    "\n",
    "\n",
    "\n",
    "</p>\n"
   ]
  },
  {
   "cell_type": "code",
   "execution_count": 104,
   "metadata": {},
   "outputs": [
    {
     "name": "stdout",
     "output_type": "stream",
     "text": [
      "[9, 8, 7, 6, 5, 4, 3, 2, 1, 0]\n",
      "[8, 7, 6, 5, 4, 3, 2, 1, 0, 0]\n",
      "[7, 6, 5, 4, 3, 2, 1, 0, 0, 0]\n",
      "[6, 5, 4, 3, 2, 1, 0, 0, 0, 0]\n",
      "[5, 4, 3, 2, 1, 0, 0, 0, 0, 0]\n",
      "[4, 3, 2, 1, 0, 0, 0, 0, 0, 0]\n",
      "[3, 2, 1, 0, 0, 0, 0, 0, 0, 0]\n",
      "[2, 1, 0, 0, 0, 0, 0, 0, 0, 0]\n",
      "[1, 0, 0, 0, 0, 0, 0, 0, 0, 0]\n",
      "[0, 0, 0, 0, 0, 0, 0, 0, 0, 0]\n"
     ]
    }
   ],
   "source": [
    "def diagonal_pattern(n):\n",
    "    nested_array = []\n",
    "    inner_array_len = n\n",
    "    for i in range(n):\n",
    "        nested_array.append([i for i in range(inner_array_len)[::-1]]\n",
    "                            + [0] * (n - inner_array_len)\n",
    "                            )\n",
    "                  \n",
    "        inner_array_len -= 1\n",
    "\n",
    "    for a in nested_array:\n",
    "        print(a)\n",
    "\n",
    "diagonal_pattern(10)"
   ]
  },
  {
   "cell_type": "markdown",
   "metadata": {},
   "source": [
    "<h3><b>(T.30) Sum matrix diagonal</b></h3>\n",
    "<p>\n",
    "\n",
    "Generate a matrix with each number incremented by 1. Calculate the principal diagonal of the matrix</br>\n",
    "\n",
    "Example: </br>\n",
    "\n",
    "[0, 1, 2] </br>\n",
    "[3, 4, 5] </br>\n",
    "[6, 7, 8] </br>\n",
    "\n",
    "result = 0 + 4 + 8 = 12\n",
    "\n",
    "\n",
    "\n",
    "</p>\n"
   ]
  },
  {
   "cell_type": "code",
   "execution_count": 103,
   "metadata": {},
   "outputs": [
    {
     "name": "stdout",
     "output_type": "stream",
     "text": [
      "[0, 1, 2]\n",
      "[3, 4, 5]\n",
      "[6, 7, 8]\n",
      "12\n"
     ]
    }
   ],
   "source": [
    "def sum_matrix_diagonal(n):\n",
    "    matrix = []\n",
    "    min_len = 0\n",
    "    max_len = n\n",
    "    for i in range(n):\n",
    "        matrix.append(\n",
    "            [i for i in range(min_len, max_len)]\n",
    "        )\n",
    "        min_len += n\n",
    "        max_len += n\n",
    "\n",
    "    for i in matrix:\n",
    "        print(i)\n",
    "\n",
    "    idx = 0\n",
    "    principal_diagonal = 0\n",
    "    for r in matrix:\n",
    "        principal_diagonal += r[idx]\n",
    "        idx += 1\n",
    "\n",
    "    print(principal_diagonal)\n",
    "\n",
    "sum_matrix_diagonal(3)"
   ]
  }
 ],
 "metadata": {
  "kernelspec": {
   "display_name": "base",
   "language": "python",
   "name": "python3"
  },
  "language_info": {
   "codemirror_mode": {
    "name": "ipython",
    "version": 3
   },
   "file_extension": ".py",
   "mimetype": "text/x-python",
   "name": "python",
   "nbconvert_exporter": "python",
   "pygments_lexer": "ipython3",
   "version": "3.8.5"
  }
 },
 "nbformat": 4,
 "nbformat_minor": 2
}
